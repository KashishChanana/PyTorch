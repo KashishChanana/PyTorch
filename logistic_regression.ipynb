{
 "cells": [
  {
   "cell_type": "code",
   "execution_count": 1,
   "metadata": {},
   "outputs": [
    {
     "name": "stderr",
     "output_type": "stream",
     "text": [
      "/opt/miniconda3/lib/python3.12/site-packages/tqdm/auto.py:21: TqdmWarning: IProgress not found. Please update jupyter and ipywidgets. See https://ipywidgets.readthedocs.io/en/stable/user_install.html\n",
      "  from .autonotebook import tqdm as notebook_tqdm\n"
     ]
    }
   ],
   "source": [
    "# Imports\n",
    "import torch\n",
    "import torchvision\n",
    "from torchvision.datasets import MNIST"
   ]
  },
  {
   "cell_type": "code",
   "execution_count": 3,
   "metadata": {},
   "outputs": [
    {
     "name": "stdout",
     "output_type": "stream",
     "text": [
      "Downloading http://yann.lecun.com/exdb/mnist/train-images-idx3-ubyte.gz\n",
      "Downloading http://yann.lecun.com/exdb/mnist/train-images-idx3-ubyte.gz to data/MNIST/raw/train-images-idx3-ubyte.gz\n"
     ]
    },
    {
     "name": "stderr",
     "output_type": "stream",
     "text": [
      "100%|██████████| 9912422/9912422 [00:00<00:00, 21981599.35it/s]\n"
     ]
    },
    {
     "name": "stdout",
     "output_type": "stream",
     "text": [
      "Extracting data/MNIST/raw/train-images-idx3-ubyte.gz to data/MNIST/raw\n",
      "\n",
      "Downloading http://yann.lecun.com/exdb/mnist/train-labels-idx1-ubyte.gz\n",
      "Downloading http://yann.lecun.com/exdb/mnist/train-labels-idx1-ubyte.gz to data/MNIST/raw/train-labels-idx1-ubyte.gz\n"
     ]
    },
    {
     "name": "stderr",
     "output_type": "stream",
     "text": [
      "100%|██████████| 28881/28881 [00:00<00:00, 37078571.72it/s]"
     ]
    },
    {
     "name": "stdout",
     "output_type": "stream",
     "text": [
      "Extracting data/MNIST/raw/train-labels-idx1-ubyte.gz to data/MNIST/raw\n",
      "\n",
      "Downloading http://yann.lecun.com/exdb/mnist/t10k-images-idx3-ubyte.gz\n",
      "Downloading http://yann.lecun.com/exdb/mnist/t10k-images-idx3-ubyte.gz to data/MNIST/raw/t10k-images-idx3-ubyte.gz\n"
     ]
    },
    {
     "name": "stderr",
     "output_type": "stream",
     "text": [
      "\n",
      "100%|██████████| 1648877/1648877 [00:00<00:00, 16486466.62it/s]\n"
     ]
    },
    {
     "name": "stdout",
     "output_type": "stream",
     "text": [
      "Extracting data/MNIST/raw/t10k-images-idx3-ubyte.gz to data/MNIST/raw\n",
      "\n",
      "Downloading http://yann.lecun.com/exdb/mnist/t10k-labels-idx1-ubyte.gz\n",
      "Downloading http://yann.lecun.com/exdb/mnist/t10k-labels-idx1-ubyte.gz to data/MNIST/raw/t10k-labels-idx1-ubyte.gz\n"
     ]
    },
    {
     "name": "stderr",
     "output_type": "stream",
     "text": [
      "100%|██████████| 4542/4542 [00:00<00:00, 1431939.93it/s]\n"
     ]
    },
    {
     "name": "stdout",
     "output_type": "stream",
     "text": [
      "Extracting data/MNIST/raw/t10k-labels-idx1-ubyte.gz to data/MNIST/raw\n",
      "\n"
     ]
    }
   ],
   "source": [
    "dataset = MNIST(root=\"data/\",\n",
    "                 download=True)"
   ]
  },
  {
   "cell_type": "code",
   "execution_count": 4,
   "metadata": {},
   "outputs": [
    {
     "data": {
      "text/plain": [
       "['0 - zero',\n",
       " '1 - one',\n",
       " '2 - two',\n",
       " '3 - three',\n",
       " '4 - four',\n",
       " '5 - five',\n",
       " '6 - six',\n",
       " '7 - seven',\n",
       " '8 - eight',\n",
       " '9 - nine']"
      ]
     },
     "execution_count": 4,
     "metadata": {},
     "output_type": "execute_result"
    }
   ],
   "source": [
    "dataset.classes"
   ]
  },
  {
   "cell_type": "code",
   "execution_count": 7,
   "metadata": {},
   "outputs": [],
   "source": [
    "test_data = MNIST(root=\"data/\",\n",
    "                   train=False)"
   ]
  },
  {
   "cell_type": "code",
   "execution_count": 10,
   "metadata": {},
   "outputs": [
    {
     "data": {
      "text/plain": [
       "(60000, 10000)"
      ]
     },
     "execution_count": 10,
     "metadata": {},
     "output_type": "execute_result"
    }
   ],
   "source": [
    "len(dataset), len(test_data)"
   ]
  },
  {
   "cell_type": "code",
   "execution_count": 19,
   "metadata": {},
   "outputs": [
    {
     "data": {
      "text/plain": [
       "<matplotlib.image.AxesImage at 0x157066e10>"
      ]
     },
     "execution_count": 19,
     "metadata": {},
     "output_type": "execute_result"
    },
    {
     "data": {
      "image/png": "[encoded data removed]",
      "text/plain": [
       "<Figure size 640x480 with 1 Axes>"
      ]
     },
     "metadata": {},
     "output_type": "display_data"
    }
   ],
   "source": [
    "import matplotlib.pyplot as plt\n",
    "%matplotlib inline\n",
    "plt.imshow(dataset[0][0], cmap=\"gray\")"
   ]
  },
  {
   "cell_type": "markdown",
   "metadata": {},
   "source": [
    "PyTorch doesn't know how to work with images. We need to convert the images into tensors. We can do this by specifying a transform while creating our dataset."
   ]
  },
  {
   "cell_type": "code",
   "execution_count": 20,
   "metadata": {},
   "outputs": [],
   "source": [
    "import torchvision.transforms as transforms"
   ]
  },
  {
   "cell_type": "code",
   "execution_count": 23,
   "metadata": {},
   "outputs": [],
   "source": [
    "dataset = MNIST(root=\"data/\",\n",
    "                 train=True,\n",
    "                   transform=transforms.ToTensor())"
   ]
  },
  {
   "cell_type": "code",
   "execution_count": 24,
   "metadata": {},
   "outputs": [
    {
     "data": {
      "text/plain": [
       "Dataset MNIST\n",
       "    Number of datapoints: 60000\n",
       "    Root location: data/\n",
       "    Split: Train\n",
       "    StandardTransform\n",
       "Transform: ToTensor()"
      ]
     },
     "execution_count": 24,
     "metadata": {},
     "output_type": "execute_result"
    }
   ],
   "source": [
    "dataset"
   ]
  },
  {
   "cell_type": "code",
   "execution_count": 25,
   "metadata": {},
   "outputs": [],
   "source": [
    "img_tensor, label = dataset[0]"
   ]
  },
  {
   "cell_type": "code",
   "execution_count": 27,
   "metadata": {},
   "outputs": [
    {
     "data": {
      "text/plain": [
       "torch.Size([1, 28, 28])"
      ]
     },
     "execution_count": 27,
     "metadata": {},
     "output_type": "execute_result"
    }
   ],
   "source": [
    "img_tensor.shape\n",
    "# 1 channel as it is a graay scale image"
   ]
  },
  {
   "cell_type": "code",
   "execution_count": 28,
   "metadata": {},
   "outputs": [
    {
     "name": "stdout",
     "output_type": "stream",
     "text": [
      "tensor([[0.0039, 0.6039, 0.9922, 0.3529, 0.0000],\n",
      "        [0.0000, 0.5451, 0.9922, 0.7451, 0.0078],\n",
      "        [0.0000, 0.0431, 0.7451, 0.9922, 0.2745],\n",
      "        [0.0000, 0.0000, 0.1373, 0.9451, 0.8824],\n",
      "        [0.0000, 0.0000, 0.0000, 0.3176, 0.9412]])\n",
      "tensor(1.) tensor(0.)\n"
     ]
    }
   ],
   "source": [
    "print(img_tensor[0,10:15,10:15])\n",
    "print(torch.max(img_tensor), torch.min(img_tensor))"
   ]
  },
  {
   "cell_type": "markdown",
   "metadata": {},
   "source": [
    "The values range from 0 to 1, with `0` representing black, `1` white, and the values in between different shades of grey. We can also plot the tensor as an image using `plt.imshow`."
   ]
  },
  {
   "cell_type": "code",
   "execution_count": 29,
   "metadata": {},
   "outputs": [
    {
     "data": {
      "image/png": "[encoded data removed]",
      "text/plain": [
       "<Figure size 640x480 with 1 Axes>"
      ]
     },
     "metadata": {},
     "output_type": "display_data"
    }
   ],
   "source": [
    "# Plot the image by passing in the 28x28 matrix\n",
    "plt.imshow(img_tensor[0,10:15,10:15], cmap='gray');"
   ]
  },
  {
   "cell_type": "markdown",
   "metadata": {},
   "source": [
    "## Training and Validation Datasets\n",
    "\n",
    "While building real-world machine learning models, it is quite common to split the dataset into three parts:\n",
    "\n",
    "1. **Training set** - used to train the model, i.e., compute the loss and adjust the model's weights using gradient descent.\n",
    "2. **Validation set** - used to evaluate the model during training, adjust hyperparameters (learning rate, etc.), and pick the best version of the model.\n",
    "3. **Test set** - used to compare different models or approaches and report the model's final accuracy.\n",
    "\n",
    "In the MNIST dataset, there are 60,000 training images and 10,000 test images. The test set is standardized so that different researchers can report their models' results against the same collection of images. \n",
    "\n",
    "Since there's no predefined validation set, we must manually split the 60,000 images into training and validation datasets. Let's set aside 10,000 randomly chosen images for validation. We can do this using the `random_spilt` method from PyTorch."
   ]
  },
  {
   "cell_type": "code",
   "execution_count": 30,
   "metadata": {},
   "outputs": [],
   "source": [
    "from torch.utils.data import random_split\n",
    "\n",
    "train_data, val_data = random_split(dataset=dataset,\n",
    "                                    lengths=[50000, 10000])"
   ]
  },
  {
   "cell_type": "code",
   "execution_count": 32,
   "metadata": {},
   "outputs": [],
   "source": [
    "from torch.utils.data import DataLoader\n",
    "\n",
    "batch_size = 128\n",
    "\n",
    "train_loader = DataLoader(dataset=train_data,\n",
    "                          batch_size= batch_size,\n",
    "                          shuffle=True)\n",
    "\n",
    "val_loader = DataLoader(dataset=val_data,\n",
    "                        shuffle=True,\n",
    "                        batch_size= batch_size)"
   ]
  },
  {
   "cell_type": "markdown",
   "metadata": {},
   "source": [
    "## Model\n",
    "\n",
    "Now that we have prepared our data loaders, we can define our model.\n",
    "\n",
    "* A **logistic regression** model is almost identical to a linear regression model. It contains weights and bias matrices, and the output is obtained using simple matrix operations (`pred = x @ w.t() + b`). \n",
    "\n",
    "* As we did with linear regression, we can use `nn.Linear` to create the model instead of manually creating and initializing the matrices.\n",
    "\n",
    "* Since `nn.Linear` expects each training example to be a vector, each `1x28x28` image tensor is _flattened_ into a vector of size 784 `(28*28)` before being passed into the model. \n",
    "\n",
    "* The output for each image is a vector of size 10, with each element signifying the probability of a particular target label (i.e., 0 to 9). The predicted label for an image is simply the one with the highest probability."
   ]
  },
  {
   "cell_type": "code",
   "execution_count": 33,
   "metadata": {},
   "outputs": [],
   "source": [
    "import torch.nn as nn"
   ]
  },
  {
   "cell_type": "code",
   "execution_count": 34,
   "metadata": {},
   "outputs": [],
   "source": [
    "model = nn.Linear(in_features=784,\n",
    "                  out_features=10)"
   ]
  },
  {
   "cell_type": "code",
   "execution_count": 36,
   "metadata": {},
   "outputs": [
    {
     "data": {
      "text/plain": [
       "[Parameter containing:\n",
       " tensor([[ 0.0058,  0.0208, -0.0331,  ..., -0.0110, -0.0235,  0.0246],\n",
       "         [-0.0350, -0.0184,  0.0009,  ..., -0.0019,  0.0172, -0.0314],\n",
       "         [-0.0314, -0.0044,  0.0163,  ...,  0.0077,  0.0309, -0.0114],\n",
       "         ...,\n",
       "         [ 0.0344, -0.0087,  0.0102,  ..., -0.0263,  0.0352,  0.0093],\n",
       "         [-0.0223, -0.0096,  0.0012,  ..., -0.0066,  0.0206, -0.0243],\n",
       "         [ 0.0312,  0.0124,  0.0207,  ...,  0.0345,  0.0019, -0.0102]],\n",
       "        requires_grad=True),\n",
       " Parameter containing:\n",
       " tensor([-0.0011, -0.0305, -0.0208, -0.0209, -0.0198, -0.0122, -0.0270, -0.0120,\n",
       "          0.0248, -0.0340], requires_grad=True)]"
      ]
     },
     "execution_count": 36,
     "metadata": {},
     "output_type": "execute_result"
    }
   ],
   "source": [
    "list(model.parameters())"
   ]
  },
  {
   "cell_type": "code",
   "execution_count": 38,
   "metadata": {},
   "outputs": [
    {
     "name": "stdout",
     "output_type": "stream",
     "text": [
      "tensor([1, 1, 4, 7, 4, 7, 6, 6, 9, 5, 7, 4, 1, 1, 8, 7, 9, 7, 4, 2, 2, 3, 1, 0,\n",
      "        1, 2, 2, 5, 1, 7, 1, 7, 4, 1, 1, 9, 5, 1, 6, 2, 9, 7, 3, 7, 4, 6, 9, 7,\n",
      "        1, 5, 6, 0, 7, 6, 6, 2, 3, 4, 4, 4, 3, 4, 1, 9, 6, 5, 3, 4, 0, 0, 2, 4,\n",
      "        3, 9, 1, 2, 9, 4, 4, 2, 3, 9, 0, 6, 6, 8, 3, 9, 5, 8, 0, 7, 4, 5, 7, 1,\n",
      "        7, 9, 0, 9, 9, 1, 9, 6, 9, 6, 2, 6, 1, 4, 8, 4, 9, 3, 7, 8, 8, 2, 3, 9,\n",
      "        0, 2, 3, 1, 1, 6, 9, 0])\n",
      "torch.Size([128, 1, 28, 28])\n"
     ]
    }
   ],
   "source": [
    "for images, labels in train_loader:\n",
    "    print(labels)\n",
    "    print(images.shape)\n",
    "    break\n",
    "\n",
    "## output (batch size * channel * height * width)"
   ]
  },
  {
   "cell_type": "code",
   "execution_count": 40,
   "metadata": {},
   "outputs": [
    {
     "name": "stdout",
     "output_type": "stream",
     "text": [
      "tensor([4, 2, 8, 7, 5, 0, 9, 0, 7, 8, 0, 3, 4, 3, 2, 2, 4, 2, 8, 4, 5, 4, 4, 7,\n",
      "        3, 9, 0, 8, 0, 7, 7, 5, 9, 0, 8, 6, 6, 2, 9, 3, 7, 6, 0, 6, 9, 1, 3, 5,\n",
      "        8, 7, 1, 8, 4, 7, 8, 9, 3, 9, 6, 9, 1, 0, 3, 1, 6, 7, 8, 7, 1, 8, 2, 5,\n",
      "        1, 4, 2, 1, 7, 0, 0, 1, 1, 9, 9, 3, 7, 2, 5, 0, 2, 7, 8, 3, 4, 2, 9, 3,\n",
      "        8, 5, 4, 1, 3, 0, 0, 6, 2, 8, 2, 8, 1, 5, 1, 5, 5, 6, 7, 8, 8, 9, 1, 1,\n",
      "        3, 1, 3, 1, 0, 9, 3, 1])\n",
      "torch.Size([128, 1, 28, 28])\n"
     ]
    }
   ],
   "source": [
    "for images, labels in train_loader:\n",
    "    print(labels)\n",
    "    print(images.shape)\n",
    "    break"
   ]
  },
  {
   "cell_type": "markdown",
   "metadata": {},
   "source": [
    "xb.reshape(-1, 28*28) indicates to PyTorch that we want a view of the xb tensor with two dimensions. The length along the 2nd dimension is 28*28 (i.e., 784). One argument to .reshape can be set to -1 (in this case, the first dimension) to let PyTorch figure it out automatically based on the shape of the original tensor."
   ]
  },
  {
   "cell_type": "code",
   "execution_count": 44,
   "metadata": {},
   "outputs": [],
   "source": [
    "input_size = 784\n",
    "num_classes = 10\n",
    "class MNISTModel(nn.Module):\n",
    "    def __init__(self):\n",
    "        super().__init__()\n",
    "        self.linear = nn.Linear(in_features=input_size, \n",
    "                                out_features=num_classes)\n",
    "    \n",
    "    def forward(self, xb):\n",
    "        xb = xb.reshape(-1, 784)\n",
    "        out = self.linear()\n",
    "        return out\n"
   ]
  },
  {
   "cell_type": "code",
   "execution_count": 47,
   "metadata": {},
   "outputs": [
    {
     "data": {
      "text/plain": [
       "[Parameter containing:\n",
       " tensor([[ 0.0278,  0.0002,  0.0287,  ..., -0.0160, -0.0212,  0.0064],\n",
       "         [ 0.0078,  0.0225,  0.0139,  ..., -0.0334,  0.0331, -0.0286],\n",
       "         [ 0.0326,  0.0125, -0.0015,  ..., -0.0112,  0.0165,  0.0302],\n",
       "         ...,\n",
       "         [ 0.0055, -0.0130,  0.0123,  ..., -0.0223,  0.0264, -0.0240],\n",
       "         [-0.0215, -0.0305,  0.0169,  ..., -0.0069,  0.0285,  0.0018],\n",
       "         [ 0.0200, -0.0249, -0.0046,  ..., -0.0068,  0.0174,  0.0256]],\n",
       "        requires_grad=True),\n",
       " Parameter containing:\n",
       " tensor([ 0.0318, -0.0198,  0.0194, -0.0178, -0.0145, -0.0238, -0.0100,  0.0336,\n",
       "          0.0137, -0.0238], requires_grad=True)]"
      ]
     },
     "execution_count": 47,
     "metadata": {},
     "output_type": "execute_result"
    }
   ],
   "source": [
    "mnist_model = MNISTModel()\n",
    "list(mnist_model.parameters())"
   ]
  },
  {
   "cell_type": "code",
   "execution_count": 58,
   "metadata": {},
   "outputs": [
    {
     "name": "stdout",
     "output_type": "stream",
     "text": [
      "tensor([[ 0.4017,  0.2401,  0.1277,  ..., -0.1217, -0.0282, -0.0603],\n",
      "        [ 0.0024,  0.0144,  0.1051,  ..., -0.1227, -0.0391,  0.1472],\n",
      "        [-0.1454, -0.0415,  0.0535,  ...,  0.0957,  0.0768,  0.0210],\n",
      "        ...,\n",
      "        [ 0.2041,  0.0211,  0.0878,  ...,  0.0952,  0.1521,  0.2064],\n",
      "        [ 0.0291,  0.0885, -0.0368,  ...,  0.2235, -0.0787,  0.0751],\n",
      "        [-0.2338,  0.3154,  0.0648,  ...,  0.2675,  0.0842, -0.0238]],\n",
      "       grad_fn=<AddmmBackward0>)\n"
     ]
    }
   ],
   "source": [
    "for xb, yb in train_loader:\n",
    "    output = mnist_model(xb)\n",
    "    print(output)\n",
    "    break"
   ]
  },
  {
   "attachments": {
    "image.png": {
     "image/png": "[encoded data removed]"
    }
   },
   "cell_type": "markdown",
   "metadata": {},
   "source": [
    "![image.png](attachment:image.png)"
   ]
  },
  {
   "cell_type": "code",
   "execution_count": 60,
   "metadata": {},
   "outputs": [],
   "source": [
    "import torch.nn.functional as F"
   ]
  },
  {
   "cell_type": "code",
   "execution_count": 61,
   "metadata": {},
   "outputs": [],
   "source": [
    "# Apply softmax for each output row\n",
    "probs = F.softmax(output, dim=1)"
   ]
  },
  {
   "cell_type": "code",
   "execution_count": 62,
   "metadata": {},
   "outputs": [
    {
     "name": "stdout",
     "output_type": "stream",
     "text": [
      "tensor([0, 5, 7, 8, 2, 7, 7, 1, 0, 1, 0, 7, 2, 7, 5, 4, 0, 7, 0, 1, 1, 7, 0, 7,\n",
      "        7, 2, 0, 4, 0, 1, 0, 5, 7, 1, 0, 7, 5, 2, 8, 2, 7, 0, 0, 7, 0, 2, 0, 0,\n",
      "        2, 7, 9, 7, 9, 1, 4, 1, 7, 5, 2, 7, 0, 8, 8, 5, 7, 7, 1, 9, 4, 1, 2, 7,\n",
      "        1, 9, 0, 5, 5, 2, 7, 7, 0, 2, 1, 7, 1, 7, 7, 7, 1, 7, 9, 1, 7, 3, 2, 1,\n",
      "        7, 0, 1, 7, 2, 2, 0, 0, 7, 2, 8, 5, 2, 0, 8, 0, 7, 7, 1, 1, 0, 2, 0, 0,\n",
      "        0, 0, 0, 1, 7, 9, 7, 1])\n",
      "tensor([0.1502, 0.1327, 0.1094, 0.1250, 0.1285, 0.1212, 0.1511, 0.1241, 0.1354,\n",
      "        0.1311, 0.1266, 0.1227, 0.1246, 0.1350, 0.1167, 0.1172, 0.1286, 0.1181,\n",
      "        0.1197, 0.1162, 0.1292, 0.1403, 0.1459, 0.1228, 0.1388, 0.1218, 0.1179,\n",
      "        0.1175, 0.1601, 0.1213, 0.1214, 0.1236, 0.1187, 0.1161, 0.1245, 0.1262,\n",
      "        0.1132, 0.1305, 0.1288, 0.1168, 0.1175, 0.1443, 0.1467, 0.1248, 0.1221,\n",
      "        0.1220, 0.1167, 0.1199, 0.1385, 0.1280, 0.1411, 0.1161, 0.1188, 0.1356,\n",
      "        0.1216, 0.1323, 0.1193, 0.1347, 0.1213, 0.1329, 0.1198, 0.1108, 0.1160,\n",
      "        0.1184, 0.1290, 0.1193, 0.1292, 0.1124, 0.1225, 0.1420, 0.1358, 0.1158,\n",
      "        0.1411, 0.1204, 0.1264, 0.1198, 0.1128, 0.1491, 0.1297, 0.1266, 0.1218,\n",
      "        0.1420, 0.1355, 0.1374, 0.1354, 0.1203, 0.1778, 0.1233, 0.1275, 0.1349,\n",
      "        0.1344, 0.1686, 0.1283, 0.1243, 0.1333, 0.1240, 0.1143, 0.1264, 0.1244,\n",
      "        0.1343, 0.1123, 0.1475, 0.1316, 0.1431, 0.1269, 0.1332, 0.1199, 0.1127,\n",
      "        0.1346, 0.1188, 0.1125, 0.1177, 0.1245, 0.1195, 0.1218, 0.1229, 0.1449,\n",
      "        0.1431, 0.1325, 0.1581, 0.1175, 0.1146, 0.1588, 0.1291, 0.1254, 0.1130,\n",
      "        0.1262, 0.1296], grad_fn=<MaxBackward0>)\n"
     ]
    }
   ],
   "source": [
    "max_probs, preds = torch.max(probs, dim=1)\n",
    "print(preds)\n",
    "print(max_probs)"
   ]
  },
  {
   "cell_type": "markdown",
   "metadata": {},
   "source": [
    "## Evaluation Metric and Loss Function"
   ]
  },
  {
   "cell_type": "code",
   "execution_count": 65,
   "metadata": {},
   "outputs": [],
   "source": [
    "evals = torch.sum(preds == yb)"
   ]
  },
  {
   "cell_type": "markdown",
   "metadata": {},
   "source": [
    "Accuracy is an excellent way for us (humans) to evaluate the model. However, we can't use it as a loss function for optimizing our model using gradient descent for the following reasons:\n",
    "\n",
    "1. It's not a differentiable function. `torch.max` and `==` are both non-continuous and non-differentiable operations, so we can't use the accuracy for computing gradients w.r.t the weights and biases.\n",
    "\n",
    "2. It doesn't take into account the actual probabilities predicted by the model, so it can't provide sufficient feedback for incremental improvements. \n",
    "\n",
    "For these reasons, accuracy is often used as an **evaluation metric** for classification, but not as a loss function. A commonly used loss function for classification problems is the **cross-entropy**, which has the following formula:\n",
    "\n",
    "![cross-entropy](https://i.imgur.com/VDRDl1D.png)\n",
    "\n",
    "While it looks complicated, it's actually quite simple:\n",
    "\n",
    "* For each output row, pick the predicted probability for the correct label. E.g., if the predicted probabilities for an image are `[0.1, 0.3, 0.2, ...]` and the correct label is `1`, we pick the corresponding element `0.3` and ignore the rest.\n",
    "\n",
    "* Then, take the [logarithm](https://en.wikipedia.org/wiki/Logarithm) of the picked probability. If the probability is high, i.e., close to 1, then its logarithm is a very small negative value, close to 0. And if the probability is low (close to 0), then the logarithm is a very large negative value. We also multiply the result by -1, which results is a large postive value of the loss for poor predictions.\n",
    "\n",
    "![](https://www.intmath.com/blog/wp-content/images/2019/05/log10.png)\n",
    "\n",
    "* Finally, take the average of the cross entropy across all the output rows to get the overall loss for a batch of data.\n",
    "\n",
    "Unlike accuracy, cross-entropy is a continuous and differentiable function. It also provides useful feedback for incremental improvements in the model (a slightly higher probability for the correct label leads to a lower loss). These two factors make cross-entropy a better choice for the loss function.\n",
    "\n",
    "As you might expect, PyTorch provides an efficient and tensor-friendly implementation of cross-entropy as part of the `torch.nn.functional` package. Moreover, it also performs softmax internally, so we can directly pass in the model's outputs without converting them into probabilities."
   ]
  },
  {
   "cell_type": "code",
   "execution_count": null,
   "metadata": {},
   "outputs": [],
   "source": []
  }
 ],
 "metadata": {
  "kernelspec": {
   "display_name": "base",
   "language": "python",
   "name": "python3"
  },
  "language_info": {
   "codemirror_mode": {
    "name": "ipython",
    "version": 3
   },
   "file_extension": ".py",
   "mimetype": "text/x-python",
   "name": "python",
   "nbconvert_exporter": "python",
   "pygments_lexer": "ipython3",
   "version": "3.12.2"
  }
 },
 "nbformat": 4,
 "nbformat_minor": 2
}
